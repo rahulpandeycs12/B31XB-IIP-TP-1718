{
 "cells": [
  {
   "cell_type": "markdown",
   "metadata": {},
   "source": [
    "# **Introduction to Image Processing**\n",
    "\n",
    "** Dear students this is your first assignment in Image processing course, in the context of this assignment you have to:**\n",
    "* **complete `2-enhancement.ipynb` up to section 2.7**\n",
    "* **complete this notebook `2-enhancement-supplementary.ipynb`**\n",
    "* **add your changes, commit and push your completed assignment to your github repo**\n",
    "\n",
    "`2-enhancement-supplememtary.ipynb` provides more information on section 2.7"
   ]
  },
  {
   "cell_type": "markdown",
   "metadata": {},
   "source": [
    "## 2.7 Your own implementation \n",
    "\n",
    "### Q.1 Import the required libraries and functions"
   ]
  },
  {
   "cell_type": "code",
   "execution_count": 1,
   "metadata": {},
   "outputs": [
    {
     "name": "stdout",
     "output_type": "stream",
     "text": [
      "Pretty printing has been turned OFF\n"
     ]
    }
   ],
   "source": [
    "% matplotlib inline\n",
    "% pprint off\n",
    "\n",
    "### import the libraries you think its necessary for your task "
   ]
  },
  {
   "cell_type": "markdown",
   "metadata": {},
   "source": [
    "### Q.2 Contrast streching "
   ]
  },
  {
   "cell_type": "markdown",
   "metadata": {},
   "source": [
    "** Define your function which stretch the image contrast, `cont_str`, using minimum and maximum values from the image **\n",
    "\n",
    "**This function should accept the input image, calculates the minimum and maximum and rescales the intensities.**\n",
    "\n",
    "** Return the image as uint8 **"
   ]
  },
  {
   "cell_type": "code",
   "execution_count": 16,
   "metadata": {
    "collapsed": true
   },
   "outputs": [],
   "source": []
  },
  {
   "cell_type": "markdown",
   "metadata": {},
   "source": [
    "**Use your function to transform the  gray version of `satellite.jpg` image (ubyte format), show the original image and the transformed image and their histogram**"
   ]
  },
  {
   "cell_type": "code",
   "execution_count": null,
   "metadata": {
    "collapsed": true
   },
   "outputs": [],
   "source": []
  },
  {
   "cell_type": "markdown",
   "metadata": {
    "collapsed": true
   },
   "source": [
    "### Q.3 Histogram equalization\n",
    "Histogram equalization can be used to enhance the contrast in images.\n",
    "\n",
    "The idea behind the histogram equalization process is that each gray level should have an equal contribution in the image. The function allowing such transformation is in fact the cumulative density function."
   ]
  },
  {
   "cell_type": "markdown",
   "metadata": {},
   "source": [
    "**Define your own histgram equalization function, `hist_eq`**\n",
    "\n",
    "**This function should accpet the image, max_int and min_int and return the transformed image and its cdf**"
   ]
  },
  {
   "cell_type": "code",
   "execution_count": null,
   "metadata": {
    "collapsed": true
   },
   "outputs": [],
   "source": []
  },
  {
   "cell_type": "markdown",
   "metadata": {},
   "source": [
    "** Use your function to transform the gray version of `satellite.jpg` image again in ubyte format**\n",
    "\n",
    "** max_int = 255, min_int = 0 **"
   ]
  },
  {
   "cell_type": "code",
   "execution_count": null,
   "metadata": {
    "collapsed": true
   },
   "outputs": [],
   "source": [
    "\n"
   ]
  },
  {
   "cell_type": "markdown",
   "metadata": {},
   "source": [
    "**Show the transformed image and its histogram**"
   ]
  },
  {
   "cell_type": "code",
   "execution_count": null,
   "metadata": {
    "collapsed": true
   },
   "outputs": [],
   "source": [
    "\n"
   ]
  },
  {
   "cell_type": "markdown",
   "metadata": {
    "collapsed": true
   },
   "source": [
    "### Q.4 Histogram matching"
   ]
  },
  {
   "cell_type": "markdown",
   "metadata": {},
   "source": [
    "** In this section we will perform histogram matching, the `hist_match` function is mostly defined here**\n",
    "** `hist_match` uses the function that should define the Q.3 `hist_eq`, check the comments in the code as well **\n",
    " \n",
    "** Explain the process of histogram matching in your own words**"
   ]
  },
  {
   "cell_type": "markdown",
   "metadata": {},
   "source": []
  },
  {
   "cell_type": "code",
   "execution_count": 22,
   "metadata": {
    "collapsed": true
   },
   "outputs": [],
   "source": [
    "def find_inverse_mapping(mapping):\n",
    "    # Initialise the inverse\n",
    "    inv_mapping = np.zeros(mapping.shape)\n",
    "    # Find the index that we can affect for sure\n",
    "    idx_inv_map = np.unique(mapping)\n",
    "    \n",
    "    # For each index\n",
    "    for idx in idx_inv_map:\n",
    "        # Find the corresponding index value\n",
    "        int_val = np.where(mapping == idx)[0][0]\n",
    "        # Affect this value for the inverse mapping\n",
    "        inv_mapping[idx] = int_val\n",
    "        \n",
    "    # Find the first index which is not zero\n",
    "    first_elt_idx = np.nonzero(inv_mapping)[0][0]\n",
    "    for i, elt in enumerate(inv_mapping[first_elt_idx:-1]):\n",
    "        if (elt == 0):\n",
    "            inv_mapping[i + first_elt_idx] = inv_mapping[i + first_elt_idx - 1]\n",
    "        \n",
    "    return inv_mapping.astype('uint8')\n",
    "\n"
   ]
  },
  {
   "cell_type": "code",
   "execution_count": 23,
   "metadata": {
    "collapsed": true
   },
   "outputs": [],
   "source": [
    "def hist_match(img, pdf_to_fit, min_int, max_int):\n",
    "    # Equalize img\n",
    "    \n",
    "    ## hist_eq is actually the function that you should implement in the previous Question \n",
    "    img_eq, cdf_eq = hist_eq(img, min_int, max_int)\n",
    "   \n",
    "    \n",
    "    # We need to make the matching now\n",
    "    ## Compute the transform G\n",
    "    \n",
    "    ### Compute the cdf\n",
    "    cdf = np.cumsum(pdf_to_fit)\n",
    "    \n",
    "    ### Multiply the cdf by the number of gray values\n",
    "    cdf_real = cdf * float(max_int)\n",
    "    ### Round the cdf\n",
    "    G = np.floor(cdf_real).astype('int')\n",
    "    \n",
    "    ## But we need the inverse\n",
    "    G_1 = find_inverse_mapping(G)\n",
    "    \n",
    "    img_match = np.zeros((img_eq.shape[0], img_eq.shape[1]))\n",
    "    for i in range (np.shape(img_eq)[0]):\n",
    "        for j in range (np.shape(img_eq)[1]):\n",
    "            img_match[i][j] = G_1[int(img_eq[i][j])]\n",
    "    \n",
    "    return img_match  "
   ]
  },
  {
   "cell_type": "markdown",
   "metadata": {},
   "source": [
    "**Creating a manual pdf following a gaussian distribution**"
   ]
  },
  {
   "cell_type": "code",
   "execution_count": 51,
   "metadata": {
    "collapsed": true
   },
   "outputs": [],
   "source": [
    "from scipy.stats import norm\n",
    "\n",
    "x = np.arange(max_img+1)\n",
    "pdf_to_fit = norm.pdf(x, 150, 30)\n"
   ]
  },
  {
   "cell_type": "markdown",
   "metadata": {},
   "source": [
    "**Use the defined function to match the histogram of gray version of satellite image to `pdf_to_fit`**"
   ]
  },
  {
   "cell_type": "code",
   "execution_count": null,
   "metadata": {
    "collapsed": true
   },
   "outputs": [],
   "source": []
  },
  {
   "cell_type": "markdown",
   "metadata": {},
   "source": [
    "### Q.5 \n",
    "\n",
    "** Explain the difference between log transform enhancement and gamma transform **\n"
   ]
  },
  {
   "cell_type": "markdown",
   "metadata": {},
   "source": []
  },
  {
   "cell_type": "markdown",
   "metadata": {},
   "source": [
    "** Explain how sigmoid function enhances the image **"
   ]
  },
  {
   "cell_type": "markdown",
   "metadata": {},
   "source": []
  }
 ],
 "metadata": {
  "kernelspec": {
   "display_name": "Python 3",
   "language": "python",
   "name": "python3"
  },
  "language_info": {
   "codemirror_mode": {
    "name": "ipython",
    "version": 3
   },
   "file_extension": ".py",
   "mimetype": "text/x-python",
   "name": "python",
   "nbconvert_exporter": "python",
   "pygments_lexer": "ipython3",
   "version": "3.6.2"
  }
 },
 "nbformat": 4,
 "nbformat_minor": 1
}
